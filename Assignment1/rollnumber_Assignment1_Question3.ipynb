{
 "cells": [
  {
   "cell_type": "markdown",
   "id": "02c54141",
   "metadata": {},
   "source": [
    "## Spam Email Classifier with KNN using TF-IDF scores"
   ]
  },
  {
   "cell_type": "markdown",
   "id": "1c17102e",
   "metadata": {},
   "source": [
    "1.   Assignment must be implemented in Python 3 only.\n",
    "2.   You are allowed to use libraries for data preprocessing (numpy, pandas, nltk etc) and for evaluation metrics, data visualization (matplotlib etc.).\n",
    "3.   You will be evaluated not just on the overall performance of the model and also on the experimentation with hyper parameters, data prepossessing techniques etc.\n",
    "4.   The report file must be a well documented jupyter notebook, explaining the experiments you have performed, evaluation metrics and corresponding code. The code must run and be able to reproduce the accuracies, figures/graphs etc.\n",
    "5.   For all the questions, you must create a train-validation data split and test the hyperparameter tuning on the validation set. Your jupyter notebook must reflect the same.\n",
    "6.   Strict plagiarism checking will be done. An F will be awarded for plagiarism."
   ]
  },
  {
   "cell_type": "markdown",
   "id": "0d34a310",
   "metadata": {},
   "source": [
    "**Task: Given an email, classify it as spam or ham**\n",
    "\n",
    "Given input text file (\"emails.txt\") containing 5572 email messages, with each row having its corresponding label (spam/ham) attached to it.\n",
    "\n",
    "This task also requires basic pre-processing of text (like removing stopwords, stemming/lemmatizing, replacing email_address with 'email-tag', etc..).\n",
    "\n",
    "You are required to find the tf-idf scores for the given data and use them to perform KNN using Cosine Similarity."
   ]
  },
  {
   "cell_type": "markdown",
   "id": "b0c87696",
   "metadata": {},
   "source": [
    "### Import necessary libraries"
   ]
  },
  {
   "cell_type": "code",
   "execution_count": 75,
   "id": "3d5a1fe2",
   "metadata": {},
   "outputs": [],
   "source": [
    "from nltk.corpus import stopwords\n",
    "from nltk.stem.snowball import SnowballStemmer\n",
    "from sklearn.model_selection import train_test_split\n",
    "from sklearn.metrics import precision_score\n",
    "import re, math\n",
    "import numpy as np\n",
    "\n",
    "stopwords_set = set(stopwords.words('english'))\n",
    "stemmer = SnowballStemmer(language='english')"
   ]
  },
  {
   "cell_type": "markdown",
   "id": "7aef4dff",
   "metadata": {},
   "source": [
    "### Load dataset"
   ]
  },
  {
   "cell_type": "code",
   "execution_count": 76,
   "id": "f178f892",
   "metadata": {},
   "outputs": [],
   "source": [
    "with open('emails.txt', 'r') as file:\n",
    "    crudeData = file.readlines()"
   ]
  },
  {
   "cell_type": "markdown",
   "id": "cd1ef5ba",
   "metadata": {},
   "source": [
    "### Preprocess data"
   ]
  },
  {
   "cell_type": "code",
   "execution_count": 77,
   "id": "fd1733d7",
   "metadata": {},
   "outputs": [],
   "source": [
    "verdict = [0]\n",
    "score = dict()\n",
    "modValue = dict()\n",
    "idf = dict()\n",
    "stemmedWords = dict()\n",
    "id = 0\n",
    "for line in crudeData:\n",
    "    id += 1\n",
    "    line = line.casefold()\n",
    "    splitt = re.split(r'[^A-Za-z0-9]+', line)\n",
    "    if len(splitt) < 2:\n",
    "        print(id, splitt)\n",
    "        continue\n",
    "    verdict.append(0)\n",
    "    if splitt[0] == \"spam\":\n",
    "        verdict[id] = 1\n",
    "    else:\n",
    "        verdict[id] = 0\n",
    "\n",
    "    totalCount = len(splitt) - 1\n",
    "    counts = dict()\n",
    "    for i in splitt[1:-1]:\n",
    "        if i == '':\n",
    "            continue\n",
    "        if i not in stopwords_set:\n",
    "            if i not in stemmedWords:\n",
    "                stemmedWords[i] = stemmer.stem(i)\n",
    "            if stemmedWords[i] not in counts:\n",
    "                counts[stemmedWords[i]] = 0\n",
    "            counts[stemmedWords[i]] += 1\n",
    "    \n",
    "    for word in counts:\n",
    "        if word not in idf:\n",
    "            idf[word] = 1\n",
    "        else:\n",
    "            idf[word] += 1\n",
    "\n",
    "    score[id] = dict()\n",
    "    modValue[id] = 0\n",
    "    for word in counts:\n",
    "        score[id][word] = math.log(1 + counts[word])\n",
    "        modValue[id] += score[id][word]**2\n",
    "    modValue[id] = (modValue[id])**(0.5)\n",
    "\n",
    "totalDocuments = id\n",
    "\n",
    "for i in range(1, totalDocuments + 1):\n",
    "    for word in score[i]:\n",
    "        score[i][word] *= math.log(totalDocuments/idf[word])\n",
    "\n",
    "def distanceFunction(a, b, distanceMethod):\n",
    "    global modValue, score\n",
    "    similarity = 0\n",
    "    if modValue[a] * modValue[b] == 0 or a == b:\n",
    "        return 0\n",
    "    if distanceMethod == 'cosine':\n",
    "        for word in score[a]:\n",
    "            if word in score[b]:\n",
    "                similarity += score[b][word]*score[a][word]\n",
    "        similarity /= (modValue[a]*modValue[b])\n",
    "    elif distanceMethod == 'manhattan':\n",
    "        for word in score[a]:\n",
    "            if word in score[b]:\n",
    "                similarity += np.absolute(score[a][word] - score[b][word])\n",
    "            else:\n",
    "                similarity += np.absolute(score[a][word])\n",
    "        for word in score[b]:\n",
    "            if word not in score[a]:\n",
    "                similarity += np.absolute(score[b][word])\n",
    "        similarity *= -1\n",
    "    else:\n",
    "        for word in score[a]:\n",
    "            if word in score[b]:\n",
    "                similarity += (score[a][word] - score[b][word])**2\n",
    "            else:\n",
    "                similarity += (score[a][word])**2\n",
    "        for word in score[b]:\n",
    "            if word not in score[a]:\n",
    "                similarity += (score[b][word])**2\n",
    "        similarity *= -1\n",
    "    return similarity\n",
    "dist = dict()\n",
    "        \n"
   ]
  },
  {
   "cell_type": "markdown",
   "id": "f76767a7",
   "metadata": {},
   "source": [
    "### Split data"
   ]
  },
  {
   "cell_type": "code",
   "execution_count": 78,
   "id": "f75e6cd2",
   "metadata": {},
   "outputs": [],
   "source": [
    "\n",
    "x = np.arange(id+1)\n",
    "x_train, x_validation, y_train, y_validation = train_test_split(x[1:], verdict[1:], test_size = 0.2, random_state=13)"
   ]
  },
  {
   "cell_type": "markdown",
   "id": "ee6eb76b",
   "metadata": {},
   "source": [
    "### Train your KNN model (reuse previously iplemented model built from scratch) and test on your data"
   ]
  },
  {
   "cell_type": "code",
   "execution_count": 79,
   "id": "9fa74e5c",
   "metadata": {},
   "outputs": [],
   "source": [
    "from sklearn import metrics as skm\n",
    "\n",
    "'''find knn,\n",
    "iterate over a set of k and for each k,\n",
    "try different criteria to assign a verdict on spam or not spam\n",
    "\n",
    "based on the result from above, plot a graph to understand\n",
    "which parameters performed the best'''\n",
    "def KNNAlgorithm(k, dist, metrics, displayConfusion):\n",
    "    global x_train, x_validation, y_train, y_validation\n",
    "\n",
    "    # go over training dataset and find the avg number of spams in k \n",
    "    # needed to specify spam\n",
    "    spamThreshold = 0\n",
    "    for x in range(len(x_train)):\n",
    "        if y_train[x] == 1:\n",
    "            temp = dist[x_train[x]][:k]\n",
    "            for i in temp:\n",
    "                spamThreshold += verdict[i[1]]\n",
    "    spamThreshold /= len(x_train)\n",
    "\n",
    "    y_out = []\n",
    "    for x in range(len(x_validation)):\n",
    "        temp = dist[x_validation[x]][:k]\n",
    "        count = 0\n",
    "        y_out.append(0)\n",
    "        for i in temp:\n",
    "            count += verdict[i[1]]\n",
    "        if count >= spamThreshold:\n",
    "            y_out[x] = 1\n",
    "        else:\n",
    "            y_out[x] = 0\n",
    "    \n",
    "    # print('Spam threshold =', spamThreshold, \"- for k =\", k, \"- with following results\") \n",
    "    if displayConfusion:\n",
    "        disp = skm.ConfusionMatrixDisplay(skm.confusion_matrix(y_validation, y_out))\n",
    "        disp.plot()\n",
    "    ar = [\n",
    "        skm.confusion_matrix(y_validation, y_out).ravel(), \n",
    "        skm.accuracy_score(y_validation, y_out), \n",
    "        skm.recall_score(y_validation, y_out),\n",
    "        skm.f1_score(y_validation, y_out)\n",
    "        ]\n",
    "    metrics.append(ar)\n"
   ]
  },
  {
   "cell_type": "markdown",
   "id": "daa1da9c",
   "metadata": {},
   "source": [
    "Below, we implement KNN for cosine similarity distance measure for a varying k"
   ]
  },
  {
   "cell_type": "code",
   "execution_count": 80,
   "id": "9a6b8f2c",
   "metadata": {},
   "outputs": [],
   "source": [
    "k_list = [1, 3, 5, 7,11, 17, 23, 28]\n",
    "\n",
    "'''\n",
    "metrics is a dictionary with distance methods as keys \n",
    "and each key corresponds to an array of values for different evaluation metrics\n",
    "\n",
    "each array of metrics is of form [confusion matrix, accuracy, recall, f1-score]\n",
    "'''\n",
    "metrics = dict()\n",
    "def applyAlgorithm(distanceMethod):\n",
    "    global metrics, k_list, dist\n",
    "\n",
    "    dist = [[] for i in range(0, id+1)]\n",
    "    for i in range(1, id):\n",
    "        for j in range(1, id):\n",
    "            dist[i].append([distanceFunction(i, j, distanceMethod), j])\n",
    "        dist[i].sort(reverse=True)\n",
    "    metrics[distanceMethod] = []\n",
    "    for k in k_list:\n",
    "        KNNAlgorithm(k, dist, metrics[distanceMethod], False)\n"
   ]
  },
  {
   "cell_type": "markdown",
   "id": "22baf6b2",
   "metadata": {},
   "source": []
  },
  {
   "cell_type": "code",
   "execution_count": null,
   "id": "68f1bb23",
   "metadata": {},
   "outputs": [],
   "source": [
    "distances = ['cosine', 'manhattan', 'euclidean']\n",
    "for distMethod in distances:    \n",
    "    applyAlgorithm(distMethod)\n",
    "# print(metrics)"
   ]
  },
  {
   "cell_type": "markdown",
   "id": "bcf6f3b1",
   "metadata": {},
   "source": [
    "***2. Explain which distance measure works best and why? Explore the distance measures and weigh their pro and cons in different application settings.***"
   ]
  },
  {
   "cell_type": "markdown",
   "id": "d1204ea4",
   "metadata": {},
   "source": [
    "In my implementation, Cosine works better for k less than 6. After k = 6, Euclidean and Manhattan seem to work better. This is because the dataset provided is a bit skewed and by changing threshold for assigning spam to an email gives very good results with distance measures like euclidean. In an ideal case, cosine similarity would have worked better because cosine takes into account only similarities which is correct since similar usage of words gives a good account of similarity in emails. \n",
    "\n",
    "\n",
    "\n",
    "#### Cosine Similarity\n",
    "\n",
    "\n",
    "pros: It takes into account only similarities between data points and disregards the differences. Mostly used in recommendation systems\n",
    "\n",
    "\n",
    "Cons: It cannot make used of the additional information embedded in the dissimilarities of points\n",
    "\n",
    "\n",
    "\n",
    "#### Manhattan Distance\n",
    "\n",
    "\n",
    "Pros: Tends to work better when dimensions of data points increase (due to the \"Curse of dimensionality\")\n",
    "\n",
    "\n",
    "Cons: Not the best indicator of distance as we percieve in common language.\n",
    "\n",
    "\n",
    "### Euclidean Distance\n",
    "\n",
    "\n",
    "Pros: Length of the straight line between 2 points hence best interprets the meaning of 'distance'.\n",
    "\n",
    "\n",
    "Cons: Gives bad results as dimensions increase since the datapoints tend to become very far to each other and straight line distance fails to give a good approximation of similarity."
   ]
  },
  {
   "cell_type": "markdown",
   "id": "45a99c76",
   "metadata": {},
   "source": [
    "***3. Report Confusion matrix along with accuracy, recall, precision and F1-score in the form of a table***"
   ]
  },
  {
   "cell_type": "code",
   "execution_count": 82,
   "id": "e9668814",
   "metadata": {},
   "outputs": [
    {
     "data": {
      "text/html": [
       "<div>\n",
       "<style scoped>\n",
       "    .dataframe tbody tr th:only-of-type {\n",
       "        vertical-align: middle;\n",
       "    }\n",
       "\n",
       "    .dataframe tbody tr th {\n",
       "        vertical-align: top;\n",
       "    }\n",
       "\n",
       "    .dataframe thead th {\n",
       "        text-align: right;\n",
       "    }\n",
       "</style>\n",
       "<table border=\"1\" class=\"dataframe\">\n",
       "  <thead>\n",
       "    <tr style=\"text-align: right;\">\n",
       "      <th></th>\n",
       "      <th>distance_method</th>\n",
       "      <th>accuracy</th>\n",
       "      <th>recall</th>\n",
       "      <th>f1_score</th>\n",
       "    </tr>\n",
       "  </thead>\n",
       "  <tbody>\n",
       "    <tr>\n",
       "      <th>0</th>\n",
       "      <td>cosine</td>\n",
       "      <td>0.960538</td>\n",
       "      <td>0.978417</td>\n",
       "      <td>0.860759</td>\n",
       "    </tr>\n",
       "    <tr>\n",
       "      <th>1</th>\n",
       "      <td>manhattan</td>\n",
       "      <td>0.938117</td>\n",
       "      <td>0.510791</td>\n",
       "      <td>0.672986</td>\n",
       "    </tr>\n",
       "    <tr>\n",
       "      <th>2</th>\n",
       "      <td>euclidean</td>\n",
       "      <td>0.938117</td>\n",
       "      <td>0.510791</td>\n",
       "      <td>0.672986</td>\n",
       "    </tr>\n",
       "  </tbody>\n",
       "</table>\n",
       "</div>"
      ],
      "text/plain": [
       "  distance_method  accuracy    recall  f1_score\n",
       "0          cosine  0.960538  0.978417  0.860759\n",
       "1       manhattan  0.938117  0.510791  0.672986\n",
       "2       euclidean  0.938117  0.510791  0.672986"
      ]
     },
     "execution_count": 82,
     "metadata": {},
     "output_type": "execute_result"
    }
   ],
   "source": [
    "from tabulate import tabulate\n",
    "import pandas as pd\n",
    "\n",
    "temp = []\n",
    "dataPrintable = {\"distance_method\":[],\n",
    "                 \"accuracy\":[],\n",
    "                 \"recall\":[],\n",
    "                 \"f1_score\":[]}\n",
    "for distanceMethod in distances:\n",
    "    dist = [[] for i in range(0, id+1)]\n",
    "    for i in range(1, id):\n",
    "        for j in range(1, id):\n",
    "            dist[i].append([distanceFunction(i, j, distanceMethod), j])\n",
    "        dist[i].sort(reverse=True)\n",
    "    KNNAlgorithm(5, dist, temp, False)\n",
    "    dataPrintable['distance_method'].append(distanceMethod)\n",
    "    dataPrintable['accuracy'].append(temp[0][1])\n",
    "    dataPrintable['recall'].append(temp[0][2])\n",
    "    dataPrintable['f1_score'].append(temp[0][3])\n",
    "    temp = []\n",
    "\n",
    "df = pd.DataFrame(dataPrintable)\n",
    "df"
   ]
  },
  {
   "cell_type": "markdown",
   "id": "d7f2826d",
   "metadata": {},
   "source": [
    "Above is for k = 5"
   ]
  },
  {
   "cell_type": "markdown",
   "id": "d4dde8d3",
   "metadata": {},
   "source": [
    "***4. Choose different K values (k=1,3,5,7,11,17,23,28) and experiment. Plot a graph showing F1 score vs k.***"
   ]
  },
  {
   "cell_type": "code",
   "execution_count": 83,
   "id": "45e0fd2f",
   "metadata": {},
   "outputs": [
    {
     "data": {
      "image/png": "[encoded data removed]",
      "text/plain": [
       "<Figure size 432x288 with 1 Axes>"
      ]
     },
     "metadata": {
      "needs_background": "light"
     },
     "output_type": "display_data"
    }
   ],
   "source": [
    "import matplotlib.pyplot as plt\n",
    "for distanceMethod in distances:\n",
    "    artemp = [i[3] for i in metrics[distanceMethod]]\n",
    "    plt.plot(k_list, artemp, label=distanceMethod)\n",
    "plt.legend()\n",
    "plt.xlabel('K')\n",
    "plt.ylabel('F1 score')\n",
    "plt.show()"
   ]
  },
  {
   "cell_type": "markdown",
   "id": "15000352",
   "metadata": {},
   "source": [
    "### Train and test Sklearn's KNN classifier model on your data (use metric which gave best results on your experimentation with built-from-scratch model.)"
   ]
  },
  {
   "cell_type": "code",
   "execution_count": 155,
   "id": "48aab7d3",
   "metadata": {},
   "outputs": [
    {
     "name": "stdout",
     "output_type": "stream",
     "text": [
      "Accuracy = 0.9515695067264573\n",
      "F1 score = 0.7589285714285714\n"
     ]
    },
    {
     "data": {
      "text/plain": [
       "<sklearn.metrics._plot.confusion_matrix.ConfusionMatrixDisplay at 0x39e3a1a50>"
      ]
     },
     "execution_count": 155,
     "metadata": {},
     "output_type": "execute_result"
    },
    {
     "data": {
      "image/png": "[encoded data removed]",
      "text/plain": [
       "<Figure size 432x288 with 2 Axes>"
      ]
     },
     "metadata": {
      "needs_background": "light"
     },
     "output_type": "display_data"
    }
   ],
   "source": [
    "from sklearn.neighbors import KNeighborsClassifier\n",
    "\n",
    "# computing the sparse-matrix\n",
    "words_dict = dict()\n",
    "for mail in score:\n",
    "    for word in score[mail]:\n",
    "        if word not in words_dict:\n",
    "            words_dict[word] = len(words_dict)\n",
    "sparse_matrix = np.empty((len(score), len(words_dict)), dtype=float)\n",
    "for mail in score:\n",
    "    for word in score[mail]:\n",
    "        sparse_matrix[mail-1][words_dict[word]] = score[mail][word]\n",
    "\n",
    "x = np.arange(1, len(score)+1, 1, dtype=int)\n",
    "x_train, x_test, y_train, y_test, sparse_train, sparse_test = train_test_split(x, verdict[1:], sparse_matrix, test_size = 0.2, random_state=13)\n",
    "\n",
    "neighbors = KNeighborsClassifier(n_neighbors=1)\n",
    "neighbors.fit(sparse_train, y_train)\n",
    "\n",
    "out = neighbors.predict(sparse_test)\n",
    "print(\"Accuracy =\", skm.accuracy_score(y_test, out))\n",
    "print(\"F1 score =\", skm.f1_score(y_test, out))\n",
    "disp = skm.ConfusionMatrixDisplay(skm.confusion_matrix(y_validation, out))\n",
    "disp.plot()\n",
    "\n"
   ]
  },
  {
   "cell_type": "markdown",
   "id": "7d22aa47",
   "metadata": {},
   "source": [
    "***Compare both the models result.***"
   ]
  },
  {
   "cell_type": "markdown",
   "metadata": {},
   "source": [
    "**My implementation works fairly better than Scikit Learn's KNN Classifier**\n",
    "\n",
    "This is visible due to the fact that there are so many false negatives (visible in the confusion matrix above). This means that the classifier wasn't able to learn to identify spam mails and hence failed badly in its pursuit. \n",
    "\n",
    "This maybe due to the fact that the given dataset is very skewed towards no-spam emails. In my implementation, I tackled this problem by calculating a good threshold for classifying on basis of neighbors (not employing a fair voting system). The result was that this threshold was very less than 50%, infact a lot of times close to 10%-15% of the neighbors. This resulted in trumping the dataset with an accuracy of 0.9991"
   ]
  },
  {
   "cell_type": "markdown",
   "id": "64987575",
   "metadata": {},
   "source": [
    "***What is the time complexity of training using KNN classifier?***"
   ]
  },
  {
   "cell_type": "markdown",
   "id": "2770c106",
   "metadata": {},
   "source": [
    "time complexity is O(1) because KNN involves no training and we only need to store the data passed to the algorithm. "
   ]
  },
  {
   "cell_type": "markdown",
   "id": "fad1f345",
   "metadata": {},
   "source": [
    "***What is the time complexity while testing? Is KNN a linear classifier or can it learn any boundary?***"
   ]
  },
  {
   "cell_type": "markdown",
   "id": "0daaa324",
   "metadata": {},
   "source": [
    "Time complexity while testing will be O(no_of_queries * no_of_samples_trained). This is because for large number of features, the library implements brute force algorithm which goes by computing distances with all the training dataset."
   ]
  }
 ],
 "metadata": {
  "kernelspec": {
   "display_name": "Python 3",
   "language": "python",
   "name": "python3"
  },
  "language_info": {
   "codemirror_mode": {
    "name": "ipython",
    "version": 3
   },
   "file_extension": ".py",
   "mimetype": "text/x-python",
   "name": "python",
   "nbconvert_exporter": "python",
   "pygments_lexer": "ipython3",
   "version": "3.10.1"
  }
 },
 "nbformat": 4,
 "nbformat_minor": 5
}
