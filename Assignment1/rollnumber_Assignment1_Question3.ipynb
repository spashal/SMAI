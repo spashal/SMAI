{
 "cells": [
  {
   "cell_type": "markdown",
   "id": "02c54141",
   "metadata": {},
   "source": [
    "## Spam Email Classifier with KNN using TF-IDF scores"
   ]
  },
  {
   "cell_type": "markdown",
   "id": "1c17102e",
   "metadata": {},
   "source": [
    "1.   Assignment must be implemented in Python 3 only.\n",
    "2.   You are allowed to use libraries for data preprocessing (numpy, pandas, nltk etc) and for evaluation metrics, data visualization (matplotlib etc.).\n",
    "3.   You will be evaluated not just on the overall performance of the model and also on the experimentation with hyper parameters, data prepossessing techniques etc.\n",
    "4.   The report file must be a well documented jupyter notebook, explaining the experiments you have performed, evaluation metrics and corresponding code. The code must run and be able to reproduce the accuracies, figures/graphs etc.\n",
    "5.   For all the questions, you must create a train-validation data split and test the hyperparameter tuning on the validation set. Your jupyter notebook must reflect the same.\n",
    "6.   Strict plagiarism checking will be done. An F will be awarded for plagiarism."
   ]
  },
  {
   "cell_type": "markdown",
   "id": "0d34a310",
   "metadata": {},
   "source": [
    "**Task: Given an email, classify it as spam or ham**\n",
    "\n",
    "Given input text file (\"emails.txt\") containing 5572 email messages, with each row having its corresponding label (spam/ham) attached to it.\n",
    "\n",
    "This task also requires basic pre-processing of text (like removing stopwords, stemming/lemmatizing, replacing email_address with 'email-tag', etc..).\n",
    "\n",
    "You are required to find the tf-idf scores for the given data and use them to perform KNN using Cosine Similarity."
   ]
  },
  {
   "cell_type": "markdown",
   "id": "b0c87696",
   "metadata": {},
   "source": [
    "### Import necessary libraries"
   ]
  },
  {
   "cell_type": "code",
   "execution_count": 46,
   "id": "3d5a1fe2",
   "metadata": {},
   "outputs": [],
   "source": [
    "from nltk.corpus import stopwords\n",
    "from nltk.stem.snowball import SnowballStemmer\n",
    "from sklearn.model_selection import train_test_split\n",
    "from sklearn.metrics import precision_score\n",
    "import re, math\n",
    "import numpy as np\n",
    "\n",
    "stopwords_set = set(stopwords.words('english'))\n",
    "stemmer = SnowballStemmer(language='english')"
   ]
  },
  {
   "cell_type": "markdown",
   "id": "7aef4dff",
   "metadata": {},
   "source": [
    "### Load dataset"
   ]
  },
  {
   "cell_type": "code",
   "execution_count": 47,
   "id": "f178f892",
   "metadata": {},
   "outputs": [],
   "source": [
    "with open('emails.txt', 'r') as file:\n",
    "    crudeData = file.readlines()"
   ]
  },
  {
   "cell_type": "markdown",
   "id": "cd1ef5ba",
   "metadata": {},
   "source": [
    "### Preprocess data"
   ]
  },
  {
   "cell_type": "code",
   "execution_count": 48,
   "id": "fd1733d7",
   "metadata": {},
   "outputs": [],
   "source": [
    "verdict = [0]\n",
    "score = dict()\n",
    "modValue = dict()\n",
    "idf = dict()\n",
    "stemmedWords = dict()\n",
    "id = 0\n",
    "for line in crudeData:\n",
    "    id += 1\n",
    "    line = line.casefold()\n",
    "    splitt = re.split(r'[^A-Za-z0-9]+', line)\n",
    "    if len(splitt) < 2:\n",
    "        print(id, splitt)\n",
    "        continue\n",
    "    verdict.append(0)\n",
    "    if splitt[0] == \"spam\":\n",
    "        verdict[id] = 1\n",
    "    else:\n",
    "        verdict[id] = 0\n",
    "\n",
    "    totalCount = len(splitt) - 1\n",
    "    counts = dict()\n",
    "    for i in splitt[1:-1]:\n",
    "        if i == '':\n",
    "            continue\n",
    "        if i not in stopwords_set:\n",
    "            if i not in stemmedWords:\n",
    "                stemmedWords[i] = stemmer.stem(i)\n",
    "            if stemmedWords[i] not in counts:\n",
    "                counts[stemmedWords[i]] = 0\n",
    "            counts[stemmedWords[i]] += 1\n",
    "    \n",
    "    for word in counts:\n",
    "        if word not in idf:\n",
    "            idf[word] = 1\n",
    "        else:\n",
    "            idf[word] += 1\n",
    "\n",
    "    score[id] = dict()\n",
    "    modValue[id] = 0\n",
    "    for word in counts:\n",
    "        score[id][word] = math.log(1 + counts[word])\n",
    "        modValue[id] += score[id][word]**2\n",
    "    modValue[id] = (modValue[id])**(0.5)\n",
    "\n",
    "totalDocuments = id\n",
    "\n",
    "for i in range(1, totalDocuments + 1):\n",
    "    for word in score[i]:\n",
    "        score[i][word] *= math.log(totalDocuments/idf[word])\n",
    "\n",
    "def distanceFunction(a, b, distanceMethod):\n",
    "    global modValue, score\n",
    "    similarity = 0\n",
    "    if modValue[a] * modValue[b] == 0 or a == b:\n",
    "        return 0\n",
    "    if distanceMethod == 'cosine':\n",
    "        for word in score[a]:\n",
    "            if word in score[b]:\n",
    "                similarity += score[b][word]*score[a][word]\n",
    "        similarity /= (modValue[a]*modValue[b])\n",
    "    elif distanceMethod == 'manhattan':\n",
    "        for word in score[a]:\n",
    "            if word in score[b]:\n",
    "                similarity += np.absolute(score[a][word] - score[b][word])\n",
    "            else:\n",
    "                similarity += np.absolute(score[a][word])\n",
    "        for word in score[b]:\n",
    "            if word not in score[a]:\n",
    "                similarity += np.absolute(score[b][word])\n",
    "        similarity *= -1\n",
    "    else:\n",
    "        for word in score[a]:\n",
    "            if word in score[b]:\n",
    "                similarity += (score[a][word] - score[b][word])**2\n",
    "            else:\n",
    "                similarity += (score[a][word])**2\n",
    "        for word in score[b]:\n",
    "            if word not in score[a]:\n",
    "                similarity += (score[b][word])**2\n",
    "        similarity *= -1\n",
    "    return similarity\n",
    "dist = dict()\n",
    "# for i in range(1, id):\n",
    "#     for j in range(1, id):\n",
    "#         dist[i].append([cosineSimilarity(i, j), j])\n",
    "#     dist[i].sort(reverse=True)\n",
    "        \n"
   ]
  },
  {
   "cell_type": "markdown",
   "id": "f76767a7",
   "metadata": {},
   "source": [
    "### Split data"
   ]
  },
  {
   "cell_type": "code",
   "execution_count": 49,
   "id": "f75e6cd2",
   "metadata": {},
   "outputs": [],
   "source": [
    "\n",
    "x = np.arange(id+1)\n",
    "x_train, x_validation, y_train, y_validation = train_test_split(x[1:], verdict[1:], test_size = 0.2, random_state=13)"
   ]
  },
  {
   "cell_type": "markdown",
   "id": "ee6eb76b",
   "metadata": {},
   "source": [
    "### Train your KNN model (reuse previously iplemented model built from scratch) and test on your data"
   ]
  },
  {
   "cell_type": "code",
   "execution_count": 50,
   "id": "9fa74e5c",
   "metadata": {},
   "outputs": [],
   "source": [
    "from sklearn import metrics as skm\n",
    "\n",
    "'''find knn,\n",
    "iterate over a set of k and for each k,\n",
    "try different criteria to assign a verdict on spam or not spam\n",
    "\n",
    "based on the result from above, plot a graph to understand\n",
    "which parameters performed the best'''\n",
    "def KNNAlgorithm(k, dist, metrics, displayConfusion):\n",
    "    global x_train, x_validation, y_train, y_validation\n",
    "\n",
    "    # go over training dataset and find the avg number of spams in k \n",
    "    # needed to specify spam\n",
    "    spamThreshold = 0\n",
    "    for x in range(len(x_train)):\n",
    "        if y_train[x] == 1:\n",
    "            temp = dist[x_train[x]][:k]\n",
    "            for i in temp:\n",
    "                spamThreshold += verdict[i[1]]\n",
    "    spamThreshold /= len(x_train)\n",
    "\n",
    "    y_out = []\n",
    "    for x in range(len(x_validation)):\n",
    "        temp = dist[x_validation[x]][:k]\n",
    "        count = 0\n",
    "        y_out.append(0)\n",
    "        for i in temp:\n",
    "            count += verdict[i[1]]\n",
    "        if count >= spamThreshold:\n",
    "            y_out[x] = 1\n",
    "        else:\n",
    "            y_out[x] = 0\n",
    "    \n",
    "    # print('Spam threshold =', spamThreshold, \"- for k =\", k, \"- with following results\") \n",
    "    if displayConfusion:\n",
    "        disp = skm.ConfusionMatrixDisplay(skm.confusion_matrix(y_validation, y_out))\n",
    "        disp.plot()\n",
    "    ar = [\n",
    "        skm.confusion_matrix(y_validation, y_out).ravel(), \n",
    "        skm.accuracy_score(y_validation, y_out), \n",
    "        skm.recall_score(y_validation, y_out),\n",
    "        skm.f1_score(y_validation, y_out)\n",
    "        ]\n",
    "    metrics.append(ar)\n"
   ]
  },
  {
   "cell_type": "markdown",
   "id": "daa1da9c",
   "metadata": {},
   "source": [
    "Below, we implement KNN for cosine similarity distance measure for a varying k"
   ]
  },
  {
   "cell_type": "code",
   "execution_count": 51,
   "id": "9a6b8f2c",
   "metadata": {},
   "outputs": [],
   "source": [
    "k_list = [1, 3, 5, 7,11, 17, 23, 28]\n",
    "\n",
    "'''\n",
    "metrics is a dictionary with distance methods as keys \n",
    "and each key corresponds to an array of values for different evaluation metrics\n",
    "\n",
    "each array of metrics is of form [confusion matrix, accuracy, recall, f1-score]\n",
    "'''\n",
    "metrics = dict()\n",
    "def applyAlgorithm(distanceMethod):\n",
    "    global metrics, k_list, dist\n",
    "\n",
    "    dist = [[] for i in range(0, id+1)]\n",
    "    for i in range(1, id):\n",
    "        for j in range(1, id):\n",
    "            dist[i].append([distanceFunction(i, j, distanceMethod), j])\n",
    "        dist[i].sort(reverse=True)\n",
    "    metrics[distanceMethod] = []\n",
    "    for k in k_list:\n",
    "        KNNAlgorithm(k, dist, metrics[distanceMethod], False)\n"
   ]
  },
  {
   "cell_type": "markdown",
   "id": "22baf6b2",
   "metadata": {},
   "source": []
  },
  {
   "cell_type": "code",
   "execution_count": 52,
   "id": "68f1bb23",
   "metadata": {},
   "outputs": [
    {
     "name": "stdout",
     "output_type": "stream",
     "text": [
      "{'cosine': [[array([970,   6,  20, 119]), 0.9766816143497757, 0.8561151079136691, 0.9015151515151515], [array([959,  17,   9, 130]), 0.9766816143497757, 0.935251798561151, 0.909090909090909], [array([935,  41,   3, 136]), 0.9605381165919282, 0.9784172661870504, 0.8607594936708861], [array([911,  65,   3, 136]), 0.9390134529147982, 0.9784172661870504, 0.7999999999999999], [array([937,  39,   4, 135]), 0.9614349775784753, 0.9712230215827338, 0.8626198083067093], [array([899,  77,   3, 136]), 0.9282511210762332, 0.9784172661870504, 0.7727272727272728], [array([918,  58,   2, 137]), 0.9461883408071748, 0.9856115107913669, 0.8203592814371258], [array([891,  85,   2, 137]), 0.9219730941704036, 0.9856115107913669, 0.7590027700831026]], 'manhattan': [[array([976,   0, 118,  21]), 0.8941704035874439, 0.1510791366906475, 0.2625], [array([976,   0,  97,  42]), 0.9130044843049328, 0.302158273381295, 0.4640883977900553], [array([975,   1,  68,  71]), 0.9381165919282511, 0.5107913669064749, 0.6729857819905214], [array([975,   1,   6, 133]), 0.9937219730941704, 0.9568345323741008, 0.9743589743589743], [array([975,   1,   0, 139]), 0.9991031390134529, 1.0, 0.996415770609319], [array([975,   1,   0, 139]), 0.9991031390134529, 1.0, 0.996415770609319], [array([975,   1,   0, 139]), 0.9991031390134529, 1.0, 0.996415770609319], [array([975,   1,   0, 139]), 0.9991031390134529, 1.0, 0.996415770609319]], 'euclidean': [[array([976,   0, 118,  21]), 0.8941704035874439, 0.1510791366906475, 0.2625], [array([976,   0,  97,  42]), 0.9130044843049328, 0.302158273381295, 0.4640883977900553], [array([975,   1,  68,  71]), 0.9381165919282511, 0.5107913669064749, 0.6729857819905214], [array([975,   1,   6, 133]), 0.9937219730941704, 0.9568345323741008, 0.9743589743589743], [array([975,   1,   0, 139]), 0.9991031390134529, 1.0, 0.996415770609319], [array([975,   1,   0, 139]), 0.9991031390134529, 1.0, 0.996415770609319], [array([975,   1,   0, 139]), 0.9991031390134529, 1.0, 0.996415770609319], [array([975,   1,   0, 139]), 0.9991031390134529, 1.0, 0.996415770609319]]}\n"
     ]
    }
   ],
   "source": [
    "distances = ['cosine', 'manhattan', 'euclidean']\n",
    "for distMethod in distances:    \n",
    "    applyAlgorithm(distMethod)\n",
    "print(metrics)"
   ]
  },
  {
   "cell_type": "markdown",
   "id": "bcf6f3b1",
   "metadata": {},
   "source": [
    "***2. Explain which distance measure works best and why? Explore the distance measures and weigh their pro and cons in different application settings.***"
   ]
  },
  {
   "cell_type": "markdown",
   "id": "d1204ea4",
   "metadata": {},
   "source": []
  },
  {
   "cell_type": "markdown",
   "id": "45a99c76",
   "metadata": {},
   "source": [
    "***3. Report Confusion matrix along with accuracy, recall, precision and F1-score in the form of a table***"
   ]
  },
  {
   "cell_type": "code",
   "execution_count": 54,
   "id": "e9668814",
   "metadata": {},
   "outputs": [
    {
     "data": {
      "text/html": [
       "<div>\n",
       "<style scoped>\n",
       "    .dataframe tbody tr th:only-of-type {\n",
       "        vertical-align: middle;\n",
       "    }\n",
       "\n",
       "    .dataframe tbody tr th {\n",
       "        vertical-align: top;\n",
       "    }\n",
       "\n",
       "    .dataframe thead th {\n",
       "        text-align: right;\n",
       "    }\n",
       "</style>\n",
       "<table border=\"1\" class=\"dataframe\">\n",
       "  <thead>\n",
       "    <tr style=\"text-align: right;\">\n",
       "      <th></th>\n",
       "      <th>distance_method</th>\n",
       "      <th>accuracy</th>\n",
       "      <th>recall</th>\n",
       "      <th>f1_score</th>\n",
       "    </tr>\n",
       "  </thead>\n",
       "  <tbody>\n",
       "    <tr>\n",
       "      <th>0</th>\n",
       "      <td>cosine</td>\n",
       "      <td>0.960538</td>\n",
       "      <td>0.978417</td>\n",
       "      <td>0.860759</td>\n",
       "    </tr>\n",
       "    <tr>\n",
       "      <th>1</th>\n",
       "      <td>manhattan</td>\n",
       "      <td>0.938117</td>\n",
       "      <td>0.510791</td>\n",
       "      <td>0.672986</td>\n",
       "    </tr>\n",
       "    <tr>\n",
       "      <th>2</th>\n",
       "      <td>euclidean</td>\n",
       "      <td>0.938117</td>\n",
       "      <td>0.510791</td>\n",
       "      <td>0.672986</td>\n",
       "    </tr>\n",
       "  </tbody>\n",
       "</table>\n",
       "</div>"
      ],
      "text/plain": [
       "  distance_method  accuracy    recall  f1_score\n",
       "0          cosine  0.960538  0.978417  0.860759\n",
       "1       manhattan  0.938117  0.510791  0.672986\n",
       "2       euclidean  0.938117  0.510791  0.672986"
      ]
     },
     "execution_count": 54,
     "metadata": {},
     "output_type": "execute_result"
    }
   ],
   "source": [
    "from tabulate import tabulate\n",
    "import pandas as pd\n",
    "\n",
    "temp = []\n",
    "dataPrintable = {\"distance_method\":[],\n",
    "                 \"accuracy\":[],\n",
    "                 \"recall\":[],\n",
    "                 \"f1_score\":[]}\n",
    "for distanceMethod in distances:\n",
    "    dist = [[] for i in range(0, id+1)]\n",
    "    for i in range(1, id):\n",
    "        for j in range(1, id):\n",
    "            dist[i].append([distanceFunction(i, j, distanceMethod), j])\n",
    "        dist[i].sort(reverse=True)\n",
    "    KNNAlgorithm(5, dist, temp, False)\n",
    "    dataPrintable['distance_method'].append(distanceMethod)\n",
    "    dataPrintable['accuracy'].append(temp[0][1])\n",
    "    dataPrintable['recall'].append(temp[0][2])\n",
    "    dataPrintable['f1_score'].append(temp[0][3])\n",
    "    temp = []\n",
    "\n",
    "df = pd.DataFrame(dataPrintable)\n",
    "df"
   ]
  },
  {
   "cell_type": "markdown",
   "id": "d4dde8d3",
   "metadata": {},
   "source": [
    "***4. Choose different K values (k=1,3,5,7,11,17,23,28) and experiment. Plot a graph showing F1 score vs k.***"
   ]
  },
  {
   "cell_type": "code",
   "execution_count": 64,
   "id": "45e0fd2f",
   "metadata": {},
   "outputs": [
    {
     "data": {
      "image/png": "[encoded data removed]",
      "text/plain": [
       "<Figure size 432x288 with 1 Axes>"
      ]
     },
     "metadata": {
      "needs_background": "light"
     },
     "output_type": "display_data"
    }
   ],
   "source": [
    "import matplotlib.pyplot as plt\n",
    "for distanceMethod in distances:\n",
    "    artemp = [i[3] for i in metrics[distanceMethod]]\n",
    "    plt.plot(k_list, artemp, label=distanceMethod)\n",
    "plt.legend()\n",
    "plt.xlabel('K')\n",
    "plt.ylabel('F1 score')\n",
    "plt.show()"
   ]
  },
  {
   "cell_type": "markdown",
   "id": "15000352",
   "metadata": {},
   "source": [
    "### Train and test Sklearn's KNN classifier model on your data (use metric which gave best results on your experimentation with built-from-scratch model.)"
   ]
  },
  {
   "cell_type": "code",
   "execution_count": null,
   "id": "48aab7d3",
   "metadata": {},
   "outputs": [],
   "source": []
  },
  {
   "cell_type": "markdown",
   "id": "7d22aa47",
   "metadata": {},
   "source": [
    "***Compare both the models result.***"
   ]
  },
  {
   "cell_type": "code",
   "execution_count": null,
   "id": "6a7a5274",
   "metadata": {},
   "outputs": [],
   "source": []
  },
  {
   "cell_type": "markdown",
   "id": "64987575",
   "metadata": {},
   "source": [
    "***What is the time complexity of training using KNN classifier?***"
   ]
  },
  {
   "cell_type": "markdown",
   "id": "2770c106",
   "metadata": {},
   "source": []
  },
  {
   "cell_type": "markdown",
   "id": "fad1f345",
   "metadata": {},
   "source": [
    "***What is the time complexity while testing? Is KNN a linear classifier or can it learn any boundary?***"
   ]
  },
  {
   "cell_type": "markdown",
   "id": "0daaa324",
   "metadata": {},
   "source": []
  }
 ],
 "metadata": {
  "kernelspec": {
   "display_name": "Python 3",
   "language": "python",
   "name": "python3"
  },
  "language_info": {
   "codemirror_mode": {
    "name": "ipython",
    "version": 3
   },
   "file_extension": ".py",
   "mimetype": "text/x-python",
   "name": "python",
   "nbconvert_exporter": "python",
   "pygments_lexer": "ipython3",
   "version": "3.10.1"
  }
 },
 "nbformat": 4,
 "nbformat_minor": 5
}
