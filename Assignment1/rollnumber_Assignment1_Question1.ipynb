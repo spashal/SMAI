{
 "cells": [
  {
   "cell_type": "markdown",
   "id": "7b7992a1",
   "metadata": {},
   "source": [
    "# Image Recommendation System via Collaborative Filtering"
   ]
  },
  {
   "cell_type": "markdown",
   "id": "bdbd69cd",
   "metadata": {},
   "source": [
    "# ***Please read the instructions very carefully***"
   ]
  },
  {
   "cell_type": "markdown",
   "id": "17602772",
   "metadata": {},
   "source": [
    "1.   Assignment must be implemented in Python 3 only.\n",
    "2.   You are allowed to use libraries for data preprocessing (numpy, pandas, nltk etc) and for evaluation metrics, data visualization (matplotlib etc.).\n",
    "3.   You will be evaluated not just on the overall performance of the model and also on the experimentation with hyper parameters, data prepossessing techniques etc.\n",
    "4.   ⚠️ The Assignment will be evaluated automatically. Please adhere to taking proper inputs from `config.csv` file. You can change your `config.csv` file to experiment with your code. But at the end, make sure that your outputs are corresponding to input values in `config.csv`\n",
    "5.   Strict plagiarism checking will be done. An F will be awarded for plagiarism."
   ]
  },
  {
   "cell_type": "markdown",
   "id": "3c9abf04",
   "metadata": {},
   "source": [
    "## About the Dataset\n",
    "Behance is a community art website where users showcase and discover creative work. Each user is able to “appreciate” (equivalent to a “like” on Instagram or a “react” on Facebook) an image, indicating that they like the image. It is in the website’s best interests to show users pictures that they would like, to keep them engaged for longer. For this question, given a set of pictures that a user has already appreciated, you have to show them a new picture that they would like based on what similar users appreciated.\n",
    "\n",
    "\n",
    "<br><br>\n",
    "**The dataset has information of 1 million appreciates of 63,497 users on 178,788 items. The file Behance appreciate 1M has a triplet in each line in the form of (user id, item id, unix timestamp).**"
   ]
  },
  {
   "cell_type": "markdown",
   "id": "11f6eaf3",
   "metadata": {},
   "source": [
    "**Task: Take the inputs from the config.csv file and output the recommendations for a particular person**\n",
    "- Collaborative Filtering is a way to predict items to the user based on the the\n",
    "user’s history and the history of similar users. The similarity between users can be quantified by the number of images that both the users appreciated.\n",
    "- The images appreciated by a similar user would be the most suitable images to show a user. Since we can find the similarity between any two users, we would be able to find the “nearest” neighbours of any user, allowing us to use a KNN-based algorithm to recommend new images to a user.\n",
    "- Since people do not like seeing pictures that they have seen already. Make sure that you do not recommend pictures that a user has appreciated already.\n",
    "- Output the final response will be saved in the file named ```config['output_file']```.\n"
   ]
  },
  {
   "cell_type": "markdown",
   "id": "1c9a5e4f",
   "metadata": {},
   "source": [
    "**Output file format:**\n",
    "Populate the output file with images that the user has not seen of the k most\n",
    "similar users, in descending order of their similarity. Each line in the output\n",
    "file should be a duplet in the form of (item id, user id), where the user id is the\n",
    "id of the kth similar user. The order of the images corresponding to the same\n",
    "similar user would not matter. The output file would look something like this:\n",
    "```\n",
    "item_id_1_of_1st_similar_user 1st_most_similar_user_id\n",
    "item_id_2_of_1st_similar_user 1st_most_similar_user_id\n",
    "item_id_3_of_1st_similar_user 1st_most_similar_user_id\n",
    "...\n",
    "item_id_1_of_2nd_similar_user 2nd_most_similar_user_id\n",
    "item_id_2_of_2nd_similar_user 2nd_most_similar_user_id\n",
    "item_id_3_of_2nd_similar_user 2nd_most_similar_user_id\n",
    "...\n",
    "item_id_1_of_kth_similar_user kth_most_similar_user_id\n",
    "item_id_2_of_kth_similar_user kth_most_similar_user_id\n",
    "item_id_3_of_kth_similar_user kth_most_similar_user_id\n",
    "```"
   ]
  },
  {
   "cell_type": "markdown",
   "id": "c6d0c592",
   "metadata": {},
   "source": [
    "The dataset was extracted using Behance’s API as a part of the paper\n",
    "“Vista: A visually, socially, and temporally-aware model for artistic\n",
    "recommendation, RecSys, 2016”. Check out this [Google Drive folder](https://drive.google.com/drive/folders/0B9Ck8jw-TZUEc3NlMjVXdDlPU1k?resourcekey=0-6_8ykn0o4fLc5fuTEm91xA) for\n",
    "more information about the dataset.\n",
    "\n",
    "\n",
    "Have fun! The users are waiting to see new pictures!"
   ]
  },
  {
   "cell_type": "markdown",
   "id": "87b8072a",
   "metadata": {},
   "source": [
    "### Import necessary libraries"
   ]
  },
  {
   "cell_type": "code",
   "execution_count": 17,
   "id": "f153853d",
   "metadata": {},
   "outputs": [],
   "source": [
    "import numpy as np\n",
    "import pandas as pd\n",
    "from sklearn.decomposition import TruncatedSVD\n",
    "from scipy.sparse import csr_matrix"
   ]
  },
  {
   "cell_type": "code",
   "execution_count": 18,
   "id": "7af3e999",
   "metadata": {},
   "outputs": [],
   "source": [
    "config = pd.read_csv('config.csv').iloc[0]\n",
    "user = config['id']\n",
    "k_value = config['k']"
   ]
  },
  {
   "cell_type": "markdown",
   "id": "10935090",
   "metadata": {},
   "source": [
    "### Read the Data"
   ]
  },
  {
   "cell_type": "code",
   "execution_count": 19,
   "id": "c0266e01",
   "metadata": {},
   "outputs": [],
   "source": [
    "with open(config['dataset_file'], 'r') as inFile:\n",
    "    appreciate_data = inFile.readlines()\n",
    "\n",
    "# below object stores the ids of images seen in a set for quick search\n",
    "# alongwith a list of images with their timestamps incase its needed at a later stage\n",
    "class userObj():\n",
    "    def __init__(self):\n",
    "        self.sortedItems = set()\n",
    "        self.list = dict()\n",
    "\n",
    "userData = dict()                   # userData is the final preprocessed data\n",
    "users_dict = dict()\n",
    "images_dict = dict()\n",
    "processed_data = np.empty((63497, 178788), dtype=bool)\n",
    "\n",
    "for line in appreciate_data:\n",
    "  val = line.split(' ')\n",
    "  user = int(val[0])\n",
    "  image = int(val[1])\n",
    "\n",
    "  if user not in users_dict:\n",
    "    users_dict[user] = len(users_dict)\n",
    "    userData[users_dict[user]] = [] \n",
    "  user_id = users_dict[user]\n",
    "  if image not in images_dict:\n",
    "    images_dict[image] = len(images_dict)\n",
    "  image_id = images_dict[image]\n",
    "\n",
    "  userData[user_id].append(image)\n",
    "  processed_data[user_id][image_id] = True\n",
    "\n",
    "\n",
    "denseMatrix = csr_matrix(processed_data, dtype=float)"
   ]
  },
  {
   "cell_type": "code",
   "execution_count": 20,
   "id": "c4c6fd7a",
   "metadata": {},
   "outputs": [],
   "source": [
    "from scipy.sparse.linalg import svds\n",
    "processed_data = 0\n",
    "reducedMatrix, s, vt = svds(denseMatrix, k = 1000)\n"
   ]
  },
  {
   "cell_type": "code",
   "execution_count": 21,
   "id": "5bb866b5",
   "metadata": {},
   "outputs": [
    {
     "data": {
      "text/plain": [
       "(63497, 1000)"
      ]
     },
     "execution_count": 21,
     "metadata": {},
     "output_type": "execute_result"
    }
   ],
   "source": [
    "reducedMatrix.shape"
   ]
  },
  {
   "cell_type": "markdown",
   "id": "99512e25",
   "metadata": {},
   "source": [
    "### Initialize a dictionary to store the item_ids that a user likes\n",
    "\n",
    "### Go through each line of the input file and construct the user_likes dictionary"
   ]
  },
  {
   "cell_type": "code",
   "execution_count": 27,
   "id": "1d3d9be5",
   "metadata": {},
   "outputs": [],
   "source": [
    "user_likes = dict()\n",
    "\n",
    "# distance function, written separately so that it can be changed\n",
    "# if we want to change the logic\n",
    "def distance(data1, data2):\n",
    "    # print(\"here\")\n",
    "    dista = 0\n",
    "\n",
    "    # cosine similarity\n",
    "    dista = 0\n",
    "    for i in range(len(data1)):\n",
    "        dista += data1[i]*data2[i]\n",
    "    \n",
    "    val1 = 0\n",
    "    for i in data1:\n",
    "        val1 += i**2\n",
    "    val2 = 0\n",
    "    for i in data2:\n",
    "        val2 += i**2\n",
    "    \n",
    "    return dista/(np.sqrt(val1*val2))"
   ]
  },
  {
   "cell_type": "code",
   "execution_count": 28,
   "id": "2dc3e332",
   "metadata": {},
   "outputs": [
    {
     "name": "stdout",
     "output_type": "stream",
     "text": [
      "-0.007285369292838187\n",
      "0.04160332029696633\n",
      "-0.0013839857221688212\n"
     ]
    }
   ],
   "source": [
    "print(distance(reducedMatrix[0], reducedMatrix[1]))\n",
    "print(distance(reducedMatrix[2], reducedMatrix[1]))\n",
    "print(distance(reducedMatrix[3], reducedMatrix[1]))"
   ]
  },
  {
   "cell_type": "code",
   "execution_count": 29,
   "id": "28bbe9bd",
   "metadata": {},
   "outputs": [],
   "source": [
    "\n",
    "def neighborss(user, k_value):\n",
    "    global users_dict\n",
    "\n",
    "    dist = [[] for i in range(63497)]\n",
    "    user1 = user\n",
    "    for user2 in users_dict:\n",
    "        u1 = users_dict[user1]\n",
    "        u2 = users_dict[user2]\n",
    "        # print(u1, u2)\n",
    "        if user1 != user2:\n",
    "            dist[u2] = [distance(reducedMatrix[u1], reducedMatrix[u2]), u2]\n",
    "            # dist[u2][u1] = [dist[u1][u2][0], u1]\n",
    "    dist.sort()\n",
    "    return dist[-k_value:]\n",
    "    \n",
    "    "
   ]
  },
  {
   "cell_type": "markdown",
   "id": "9e199965",
   "metadata": {},
   "source": [
    "### Use KNN after Collaborative Filtering to find nearest neighbors"
   ]
  },
  {
   "cell_type": "code",
   "execution_count": 25,
   "id": "2117df52",
   "metadata": {},
   "outputs": [],
   "source": [
    "# your code here\n",
    "def neighbors(user,k_value):\n",
    "    global userData\n",
    "    \"\"\" returns an iterable object (like list or generator) \"\"\"\n",
    "    allDist = []\n",
    "    for otherUser in userData:\n",
    "        if otherUser != user:\n",
    "            allDist.append([distance(userData[otherUser], userData[user]), otherUser])\n",
    "    allDist.sort()\n",
    "    \n",
    "    # creating a list of movies\n",
    "    newList = []\n",
    "    for i in range(len(allDist) - 1, max(len(allDist) - k_value - 1, -1), -1):\n",
    "        newList.append(allDist[i][1])\n",
    "    \n",
    "    return newList\n",
    "    "
   ]
  },
  {
   "cell_type": "markdown",
   "id": "e1ea221f",
   "metadata": {},
   "source": []
  },
  {
   "cell_type": "markdown",
   "id": "892c395b",
   "metadata": {},
   "source": [
    "### Open the output file to write all the lines to the file"
   ]
  },
  {
   "cell_type": "code",
   "execution_count": 33,
   "id": "428708d5",
   "metadata": {},
   "outputs": [],
   "source": [
    "outFile = open(config['output_file'], 'w')\n",
    "listOfKNN = neighborss(user, k_value)\n",
    "\n",
    "for n_user in listOfKNN:\n",
    "    user_id = n_user[1]\n",
    "    real_id = 0\n",
    "    for item in users_dict:\n",
    "        if users_dict[item] == user_id:\n",
    "            real_id = item\n",
    "            break\n",
    "    for item_id in userData[user_id]:\n",
    "        if item_id not in userData[users_dict[user]]:\n",
    "            outFile.write(str(item_id) + ' ' + str(real_id) + '\\n')\n",
    "\n",
    "outFile.close()"
   ]
  }
 ],
 "metadata": {
  "kernelspec": {
   "display_name": "Python 3",
   "language": "python",
   "name": "python3"
  },
  "language_info": {
   "codemirror_mode": {
    "name": "ipython",
    "version": 3
   },
   "file_extension": ".py",
   "mimetype": "text/x-python",
   "name": "python",
   "nbconvert_exporter": "python",
   "pygments_lexer": "ipython3",
   "version": "3.10.1"
  }
 },
 "nbformat": 4,
 "nbformat_minor": 5
}
